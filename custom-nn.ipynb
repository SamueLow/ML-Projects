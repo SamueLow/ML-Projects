{
 "cells": [
  {
   "cell_type": "code",
   "execution_count": 12,
   "metadata": {},
   "outputs": [],
   "source": [
    "#This was done using the help of this tutorial:https://youtu.be/w8yWXqWQYmU\n",
    "\n",
    "import numpy as np\n",
    "import pandas as pd\n",
    "from matplotlib import pyplot as plt\n",
    "from keras.datasets import mnist\n",
    "\n",
    "# Load MNIST data\n",
    "(train_images, train_labels), (test_images, test_labels) = mnist.load_data()\n",
    "\n",
    "# Reshape images to 1D arrays\n",
    "train_images = train_images.reshape((train_images.shape[0], 28*28))\n",
    "test_images = test_images.reshape((test_images.shape[0], 28*28))\n",
    "\n",
    "# Combine images and labels into Pandas DataFrames\n",
    "train_df = pd.DataFrame(np.column_stack([train_images, train_labels]), columns=[\"pixel_\"+str(i) for i in range(28*28)] + [\"label\"])\n",
    "test_df = pd.DataFrame(np.column_stack([test_images, test_labels]), columns=[\"pixel_\"+str(i) for i in range(28*28)] + [\"label\"])\n"
   ]
  },
  {
   "cell_type": "code",
   "execution_count": 16,
   "metadata": {},
   "outputs": [],
   "source": [
    "data = np.array(train_df)\n",
    "m, n = data.shape\n",
    "np.random.shuffle(data) # shuffle before splitting into dev and training sets\n",
    "\n",
    "data_dev = data[0:1000].T\n",
    "Y_dev = data_dev[-1]\n",
    "X_dev = data_dev[1:n]\n",
    "X_dev = X_dev / 255.\n",
    "\n",
    "data_train = data[1000:m].T\n",
    "Y_train = data_train[-1]\n",
    "X_train = data_train[1:n]\n",
    "X_train = X_train / 255.\n",
    "_,m_train = X_train.shape"
   ]
  },
  {
   "cell_type": "code",
   "execution_count": 17,
   "metadata": {},
   "outputs": [
    {
     "data": {
      "text/plain": [
       "array([2, 0, 7, ..., 1, 2, 9], dtype=uint8)"
      ]
     },
     "execution_count": 17,
     "metadata": {},
     "output_type": "execute_result"
    }
   ],
   "source": [
    "Y_train"
   ]
  },
  {
   "cell_type": "code",
   "execution_count": 18,
   "metadata": {},
   "outputs": [],
   "source": [
    "def init_params():\n",
    "    W1 = np.random.rand(10, 784) - 0.5\n",
    "    b1 = np.random.rand(10, 1) - 0.5\n",
    "    W2 = np.random.rand(10, 10) - 0.5\n",
    "    b2 = np.random.rand(10, 1) - 0.5\n",
    "    return W1, b1, W2, b2\n",
    "\n",
    "def ReLU(Z):\n",
    "    return np.maximum(Z, 0)\n",
    "\n",
    "def softmax(Z):\n",
    "    A = np.exp(Z) / sum(np.exp(Z))\n",
    "    return A\n",
    "    \n",
    "def forward_prop(W1, b1, W2, b2, X):\n",
    "    Z1 = W1.dot(X) + b1\n",
    "    A1 = ReLU(Z1)\n",
    "    Z2 = W2.dot(A1) + b2\n",
    "    A2 = softmax(Z2)\n",
    "    return Z1, A1, Z2, A2\n",
    "\n",
    "def ReLU_deriv(Z):\n",
    "    return Z > 0\n",
    "\n",
    "def one_hot(Y):\n",
    "    one_hot_Y = np.zeros((Y.size, Y.max() + 1))\n",
    "    one_hot_Y[np.arange(Y.size), Y] = 1\n",
    "    one_hot_Y = one_hot_Y.T\n",
    "    return one_hot_Y\n",
    "\n",
    "def backward_prop(Z1, A1, Z2, A2, W1, W2, X, Y):\n",
    "    one_hot_Y = one_hot(Y)\n",
    "    dZ2 = A2 - one_hot_Y\n",
    "    dW2 = 1 / m * dZ2.dot(A1.T)\n",
    "    db2 = 1 / m * np.sum(dZ2)\n",
    "    dZ1 = W2.T.dot(dZ2) * ReLU_deriv(Z1)\n",
    "    dW1 = 1 / m * dZ1.dot(X.T)\n",
    "    db1 = 1 / m * np.sum(dZ1)\n",
    "    return dW1, db1, dW2, db2\n",
    "\n",
    "def update_params(W1, b1, W2, b2, dW1, db1, dW2, db2, alpha):\n",
    "    W1 = W1 - alpha * dW1\n",
    "    b1 = b1 - alpha * db1    \n",
    "    W2 = W2 - alpha * dW2  \n",
    "    b2 = b2 - alpha * db2    \n",
    "    return W1, b1, W2, b2"
   ]
  },
  {
   "cell_type": "code",
   "execution_count": 19,
   "metadata": {},
   "outputs": [],
   "source": [
    "def get_predictions(A2):\n",
    "    return np.argmax(A2, 0)\n",
    "\n",
    "def get_accuracy(predictions, Y):\n",
    "    print(predictions, Y)\n",
    "    return np.sum(predictions == Y) / Y.size\n",
    "\n",
    "def gradient_descent(X, Y, alpha, iterations):\n",
    "    W1, b1, W2, b2 = init_params()\n",
    "    for i in range(iterations):\n",
    "        Z1, A1, Z2, A2 = forward_prop(W1, b1, W2, b2, X)\n",
    "        dW1, db1, dW2, db2 = backward_prop(Z1, A1, Z2, A2, W1, W2, X, Y)\n",
    "        W1, b1, W2, b2 = update_params(W1, b1, W2, b2, dW1, db1, dW2, db2, alpha)\n",
    "        if i % 10 == 0:\n",
    "            print(\"Iteration: \", i)\n",
    "            predictions = get_predictions(A2)\n",
    "            print(get_accuracy(predictions, Y))\n",
    "    return W1, b1, W2, b2"
   ]
  },
  {
   "cell_type": "code",
   "execution_count": 20,
   "metadata": {},
   "outputs": [
    {
     "name": "stdout",
     "output_type": "stream",
     "text": [
      "Iteration:  0\n",
      "[8 7 7 ... 6 7 7] [2 0 7 ... 1 2 9]\n",
      "0.12396610169491526\n",
      "Iteration:  10\n",
      "[8 0 7 ... 6 8 2] [2 0 7 ... 1 2 9]\n",
      "0.24010169491525424\n",
      "Iteration:  20\n",
      "[8 0 7 ... 6 8 2] [2 0 7 ... 1 2 9]\n",
      "0.3486949152542373\n",
      "Iteration:  30\n",
      "[8 0 7 ... 1 2 2] [2 0 7 ... 1 2 9]\n",
      "0.42945762711864405\n",
      "Iteration:  40\n",
      "[2 0 7 ... 1 2 2] [2 0 7 ... 1 2 9]\n",
      "0.4944915254237288\n",
      "Iteration:  50\n",
      "[2 0 7 ... 1 2 2] [2 0 7 ... 1 2 9]\n",
      "0.5433050847457627\n",
      "Iteration:  60\n",
      "[2 0 7 ... 1 2 2] [2 0 7 ... 1 2 9]\n",
      "0.5798983050847457\n",
      "Iteration:  70\n",
      "[2 0 7 ... 1 2 9] [2 0 7 ... 1 2 9]\n",
      "0.6111694915254238\n",
      "Iteration:  80\n",
      "[2 0 7 ... 1 2 9] [2 0 7 ... 1 2 9]\n",
      "0.638542372881356\n",
      "Iteration:  90\n",
      "[2 0 7 ... 1 2 9] [2 0 7 ... 1 2 9]\n",
      "0.6610338983050847\n",
      "Iteration:  100\n",
      "[2 0 7 ... 1 2 9] [2 0 7 ... 1 2 9]\n",
      "0.6814576271186441\n",
      "Iteration:  110\n",
      "[2 0 7 ... 1 2 9] [2 0 7 ... 1 2 9]\n",
      "0.699\n",
      "Iteration:  120\n",
      "[2 0 7 ... 1 2 9] [2 0 7 ... 1 2 9]\n",
      "0.7143898305084746\n",
      "Iteration:  130\n",
      "[2 0 7 ... 1 2 9] [2 0 7 ... 1 2 9]\n",
      "0.7267966101694915\n",
      "Iteration:  140\n",
      "[2 0 7 ... 1 2 9] [2 0 7 ... 1 2 9]\n",
      "0.7378135593220339\n",
      "Iteration:  150\n",
      "[2 0 7 ... 1 2 9] [2 0 7 ... 1 2 9]\n",
      "0.7478135593220339\n",
      "Iteration:  160\n",
      "[2 0 7 ... 1 2 9] [2 0 7 ... 1 2 9]\n",
      "0.756\n",
      "Iteration:  170\n",
      "[2 0 7 ... 1 2 9] [2 0 7 ... 1 2 9]\n",
      "0.7639661016949153\n",
      "Iteration:  180\n",
      "[2 0 7 ... 1 2 9] [2 0 7 ... 1 2 9]\n",
      "0.7711694915254237\n",
      "Iteration:  190\n",
      "[2 0 7 ... 1 2 9] [2 0 7 ... 1 2 9]\n",
      "0.777728813559322\n",
      "Iteration:  200\n",
      "[2 0 7 ... 1 2 9] [2 0 7 ... 1 2 9]\n",
      "0.7840847457627118\n",
      "Iteration:  210\n",
      "[2 0 7 ... 1 2 9] [2 0 7 ... 1 2 9]\n",
      "0.7892881355932203\n",
      "Iteration:  220\n",
      "[2 0 7 ... 1 2 9] [2 0 7 ... 1 2 9]\n",
      "0.7937966101694915\n",
      "Iteration:  230\n",
      "[2 0 7 ... 1 2 9] [2 0 7 ... 1 2 9]\n",
      "0.798135593220339\n",
      "Iteration:  240\n",
      "[2 0 7 ... 1 2 9] [2 0 7 ... 1 2 9]\n",
      "0.8019830508474576\n",
      "Iteration:  250\n",
      "[2 0 7 ... 1 2 9] [2 0 7 ... 1 2 9]\n",
      "0.805322033898305\n",
      "Iteration:  260\n",
      "[2 0 7 ... 1 2 9] [2 0 7 ... 1 2 9]\n",
      "0.8081864406779661\n",
      "Iteration:  270\n",
      "[2 0 7 ... 1 2 9] [2 0 7 ... 1 2 9]\n",
      "0.8117796610169492\n",
      "Iteration:  280\n",
      "[2 0 7 ... 1 2 9] [2 0 7 ... 1 2 9]\n",
      "0.8148474576271186\n",
      "Iteration:  290\n",
      "[2 0 7 ... 1 2 9] [2 0 7 ... 1 2 9]\n",
      "0.8173898305084746\n",
      "Iteration:  300\n",
      "[2 0 7 ... 1 2 9] [2 0 7 ... 1 2 9]\n",
      "0.8200338983050848\n",
      "Iteration:  310\n",
      "[2 0 7 ... 1 2 9] [2 0 7 ... 1 2 9]\n",
      "0.8223389830508474\n",
      "Iteration:  320\n",
      "[2 0 7 ... 1 2 9] [2 0 7 ... 1 2 9]\n",
      "0.8247796610169491\n",
      "Iteration:  330\n",
      "[2 0 7 ... 1 2 9] [2 0 7 ... 1 2 9]\n",
      "0.8268813559322034\n",
      "Iteration:  340\n",
      "[2 0 7 ... 1 2 9] [2 0 7 ... 1 2 9]\n",
      "0.8289830508474576\n",
      "Iteration:  350\n",
      "[2 0 7 ... 1 2 9] [2 0 7 ... 1 2 9]\n",
      "0.8306949152542373\n",
      "Iteration:  360\n",
      "[2 0 7 ... 1 2 9] [2 0 7 ... 1 2 9]\n",
      "0.8324745762711865\n",
      "Iteration:  370\n",
      "[2 0 7 ... 1 2 9] [2 0 7 ... 1 2 9]\n",
      "0.8342203389830508\n",
      "Iteration:  380\n",
      "[2 0 7 ... 1 2 9] [2 0 7 ... 1 2 9]\n",
      "0.8355423728813559\n",
      "Iteration:  390\n",
      "[2 0 7 ... 1 2 9] [2 0 7 ... 1 2 9]\n",
      "0.8372203389830508\n",
      "Iteration:  400\n",
      "[2 0 7 ... 1 2 9] [2 0 7 ... 1 2 9]\n",
      "0.8388813559322034\n",
      "Iteration:  410\n",
      "[2 0 7 ... 1 2 9] [2 0 7 ... 1 2 9]\n",
      "0.8402203389830508\n",
      "Iteration:  420\n",
      "[2 0 7 ... 1 2 9] [2 0 7 ... 1 2 9]\n",
      "0.8416271186440678\n",
      "Iteration:  430\n",
      "[2 0 7 ... 1 2 9] [2 0 7 ... 1 2 9]\n",
      "0.8429322033898305\n",
      "Iteration:  440\n",
      "[2 0 7 ... 1 2 9] [2 0 7 ... 1 2 9]\n",
      "0.8446101694915255\n",
      "Iteration:  450\n",
      "[2 0 7 ... 1 2 9] [2 0 7 ... 1 2 9]\n",
      "0.8457288135593221\n",
      "Iteration:  460\n",
      "[2 0 7 ... 1 2 9] [2 0 7 ... 1 2 9]\n",
      "0.8471694915254238\n",
      "Iteration:  470\n",
      "[2 0 7 ... 1 2 9] [2 0 7 ... 1 2 9]\n",
      "0.8481016949152542\n",
      "Iteration:  480\n",
      "[2 0 7 ... 1 2 9] [2 0 7 ... 1 2 9]\n",
      "0.8493898305084746\n",
      "Iteration:  490\n",
      "[2 0 7 ... 1 2 9] [2 0 7 ... 1 2 9]\n",
      "0.8503559322033898\n"
     ]
    }
   ],
   "source": [
    "W1, b1, W2, b2 = gradient_descent(X_train, Y_train, 0.10, 500)"
   ]
  },
  {
   "cell_type": "code",
   "execution_count": 21,
   "metadata": {},
   "outputs": [],
   "source": [
    "def make_predictions(X, W1, b1, W2, b2):\n",
    "    _, _, _, A2 = forward_prop(W1, b1, W2, b2, X)\n",
    "    predictions = get_predictions(A2)\n",
    "    return predictions\n",
    "\n",
    "def test_prediction(index, W1, b1, W2, b2):\n",
    "    current_image = X_train[:, index, None]\n",
    "    prediction = make_predictions(X_train[:, index, None], W1, b1, W2, b2)\n",
    "    label = Y_train[index]\n",
    "    print(\"Prediction: \", prediction)\n",
    "    print(\"Label: \", label)\n",
    "    \n",
    "    current_image = current_image.reshape((28, 28)) * 255\n",
    "    plt.gray()\n",
    "    plt.imshow(current_image, interpolation='nearest')\n",
    "    plt.show()"
   ]
  },
  {
   "cell_type": "code",
   "execution_count": 22,
   "metadata": {},
   "outputs": [
    {
     "name": "stdout",
     "output_type": "stream",
     "text": [
      "Prediction:  [2]\n",
      "Label:  2\n"
     ]
    },
    {
     "data": {
      "image/png": "[encoded data removed]",
      "text/plain": [
       "<Figure size 432x288 with 1 Axes>"
      ]
     },
     "metadata": {
      "needs_background": "light"
     },
     "output_type": "display_data"
    },
    {
     "name": "stdout",
     "output_type": "stream",
     "text": [
      "Prediction:  [0]\n",
      "Label:  0\n"
     ]
    },
    {
     "data": {
      "image/png": "[encoded data removed]",
      "text/plain": [
       "<Figure size 432x288 with 1 Axes>"
      ]
     },
     "metadata": {
      "needs_background": "light"
     },
     "output_type": "display_data"
    },
    {
     "name": "stdout",
     "output_type": "stream",
     "text": [
      "Prediction:  [7]\n",
      "Label:  7\n"
     ]
    },
    {
     "data": {
      "image/png": "[encoded data removed]",
      "text/plain": [
       "<Figure size 432x288 with 1 Axes>"
      ]
     },
     "metadata": {
      "needs_background": "light"
     },
     "output_type": "display_data"
    },
    {
     "name": "stdout",
     "output_type": "stream",
     "text": [
      "Prediction:  [2]\n",
      "Label:  6\n"
     ]
    },
    {
     "data": {
      "image/png": "[encoded data removed]",
      "text/plain": [
       "<Figure size 432x288 with 1 Axes>"
      ]
     },
     "metadata": {
      "needs_background": "light"
     },
     "output_type": "display_data"
    }
   ],
   "source": [
    "test_prediction(0, W1, b1, W2, b2)\n",
    "test_prediction(1, W1, b1, W2, b2)\n",
    "test_prediction(2, W1, b1, W2, b2)\n",
    "test_prediction(3, W1, b1, W2, b2)"
   ]
  },
  {
   "cell_type": "code",
   "execution_count": 23,
   "metadata": {},
   "outputs": [
    {
     "name": "stdout",
     "output_type": "stream",
     "text": [
      "[0 2 1 2 4 3 1 0 0 5 0 1 9 0 7 2 4 0 7 6 8 8 6 4 0 1 9 7 7 9 9 0 1 2 7 1 0\n",
      " 3 0 6 8 6 5 7 7 4 8 9 7 0 8 8 6 5 3 7 0 5 6 0 6 1 9 5 8 7 1 6 0 5 1 1 8 5\n",
      " 7 1 3 7 9 9 0 7 3 4 6 6 8 5 9 6 9 0 8 0 2 7 3 8 6 7 2 4 0 5 6 1 7 6 8 9 8\n",
      " 8 1 3 3 8 0 3 9 5 2 4 3 1 6 1 3 9 8 2 7 6 9 1 7 7 0 1 0 0 2 5 4 9 6 8 4 1\n",
      " 4 2 0 2 7 9 3 0 3 1 0 5 6 4 3 1 1 1 2 7 8 5 0 2 8 8 3 5 1 2 2 0 3 5 7 5 6\n",
      " 2 1 6 6 3 1 6 4 9 7 2 4 0 5 4 1 3 9 7 6 2 7 9 6 2 7 6 1 1 0 7 3 4 7 1 8 9\n",
      " 2 3 8 4 7 9 2 0 0 8 3 0 5 9 1 7 6 8 8 0 0 6 1 2 3 1 6 8 3 1 0 4 6 6 3 9 0\n",
      " 5 4 1 0 7 6 8 0 5 4 0 1 9 3 6 3 2 5 7 3 0 6 0 4 9 9 7 9 3 8 7 6 2 6 1 4 0\n",
      " 2 8 9 7 9 5 0 7 2 0 5 9 9 3 7 2 2 0 8 3 4 6 5 9 7 9 3 9 5 8 9 4 1 7 8 4 1\n",
      " 6 6 0 5 3 4 3 7 8 9 6 9 4 4 8 5 8 0 2 8 9 2 0 5 1 6 8 8 0 3 6 8 2 2 1 3 3\n",
      " 8 2 1 2 3 3 9 8 4 4 9 6 6 6 3 7 5 0 0 4 9 1 3 8 7 0 2 6 6 2 7 5 5 6 7 4 4\n",
      " 7 7 5 8 8 0 9 2 4 9 9 0 7 3 7 8 1 8 0 1 6 1 9 8 1 5 8 3 1 9 7 3 7 1 6 3 1\n",
      " 0 4 2 0 9 6 0 6 9 0 1 8 1 6 1 0 0 2 9 0 9 9 7 4 4 8 7 4 1 1 3 1 8 0 9 9 8\n",
      " 7 1 0 0 0 9 4 9 1 8 0 5 4 1 9 3 2 1 8 7 9 0 1 8 9 0 9 3 4 2 0 8 2 3 4 3 8\n",
      " 0 4 6 9 9 4 2 9 2 1 1 2 2 9 4 7 2 1 6 0 2 5 4 3 9 1 9 3 6 3 7 0 3 6 7 6 7\n",
      " 7 8 6 9 9 9 1 7 0 3 6 8 5 7 6 7 0 8 5 1 9 4 7 1 8 0 2 9 4 1 2 3 5 1 8 5 5\n",
      " 2 2 7 6 7 3 9 9 4 2 4 7 7 0 0 7 5 6 7 8 6 5 4 4 9 3 6 6 1 2 3 2 1 5 5 7 7\n",
      " 0 1 3 6 8 9 2 2 9 3 3 0 9 8 7 5 6 0 8 2 2 7 0 0 8 8 1 5 9 4 1 2 0 8 3 4 2\n",
      " 2 2 0 6 5 2 8 4 7 8 1 9 5 4 6 1 3 1 7 9 6 1 2 6 8 4 5 6 3 5 4 1 4 8 7 0 1\n",
      " 1 9 7 4 7 8 8 4 8 9 0 8 9 8 1 2 8 0 4 6 3 4 5 6 0 9 5 7 9 1 9 2 7 4 4 9 6\n",
      " 9 2 4 3 0 6 5 3 2 1 4 0 0 3 0 6 6 4 0 7 9 3 6 4 7 7 8 0 6 0 3 7 4 1 6 5 5\n",
      " 0 2 3 0 2 4 3 5 3 0 3 0 6 6 3 1 4 7 7 5 2 2 4 4 8 6 5 6 5 5 8 4 8 5 7 2 9\n",
      " 7 2 7 4 3 5 2 9 0 5 1 9 4 5 2 9 6 6 6 3 7 5 4 1 4 1 2 4 1 3 1 3 3 7 0 7 3\n",
      " 5 8 9 2 8 6 8 0 6 1 2 8 3 5 6 1 4 7 2 5 0 7 1 4 1 2 4 5 1 8 4 8 2 3 0 1 1\n",
      " 9 1 4 6 7 3 0 9 3 5 8 1 8 3 0 1 8 7 2 7 3 0 8 0 8 6 1 6 4 3 0 0 7 3 1 2 9\n",
      " 6 7 1 9 1 6 7 1 6 4 1 9 4 4 1 8 6 6 9 2 8 8 5 9 3 5 1 8 7 8 4 9 4 7 3 8 5\n",
      " 2 2 0 6 7 3 7 4 4 6 7 7 6 0 4 0 1 6 8 5 8 0 2 2 6 9 7 6 6 9 0 0 2 6 4 5 1\n",
      " 6] [0 2 1 6 6 2 1 0 0 0 0 1 9 0 7 2 4 9 7 2 8 6 6 4 0 1 9 7 9 9 4 0 1 2 7 1 0\n",
      " 3 2 6 3 6 5 7 7 5 5 9 7 0 8 2 6 5 3 7 0 3 6 0 6 1 9 0 8 7 1 6 0 3 1 1 8 5\n",
      " 7 1 3 7 9 8 0 7 3 4 6 6 8 5 9 6 9 0 8 0 2 7 7 8 6 7 9 4 0 5 6 1 7 6 8 9 5\n",
      " 8 1 3 3 8 0 3 9 5 2 7 3 1 8 1 3 9 8 2 7 6 7 1 7 7 0 1 0 0 2 5 4 9 2 9 4 1\n",
      " 4 2 0 2 7 9 3 0 3 1 0 5 6 4 3 1 2 1 2 7 8 5 0 2 8 8 3 5 1 6 2 0 3 5 7 8 6\n",
      " 2 1 6 6 3 1 6 4 9 7 6 4 6 5 9 1 3 9 9 6 2 7 9 6 2 7 6 1 1 0 7 3 4 7 1 8 9\n",
      " 2 3 8 4 7 9 2 0 0 8 3 0 5 9 1 7 6 8 8 0 0 6 1 2 5 1 6 8 3 1 0 4 6 5 3 9 0\n",
      " 5 5 1 0 7 6 8 5 8 4 3 1 9 3 6 3 3 5 1 3 0 6 0 9 9 9 7 9 3 8 7 6 2 6 1 4 0\n",
      " 2 8 9 7 9 5 0 7 9 0 5 9 9 3 7 8 2 0 8 3 4 6 5 4 7 9 3 9 3 8 8 4 1 7 8 9 1\n",
      " 6 6 9 5 3 6 9 7 8 9 4 9 4 9 8 5 8 0 2 8 9 2 0 5 1 6 8 5 0 3 6 8 2 2 1 3 3\n",
      " 8 9 1 2 3 3 9 5 9 8 9 5 6 5 5 7 8 0 0 4 9 1 3 8 7 0 2 3 6 2 7 5 5 6 7 4 9\n",
      " 7 7 5 8 8 0 9 2 4 4 4 0 7 3 7 9 1 8 0 2 6 1 9 8 1 0 8 5 1 9 9 3 7 1 2 3 1\n",
      " 0 4 6 0 9 6 0 6 9 0 1 8 1 6 1 0 0 2 9 3 9 9 7 9 4 8 7 4 1 1 5 1 8 0 9 4 8\n",
      " 7 1 0 6 0 9 4 9 1 8 0 5 4 1 9 5 2 1 8 7 9 0 1 3 9 0 9 3 4 2 0 5 2 3 4 3 8\n",
      " 0 4 6 4 9 4 2 4 2 1 1 6 5 9 4 7 2 1 6 2 2 5 4 3 9 4 9 3 6 8 7 0 3 6 7 6 7\n",
      " 7 8 6 5 4 9 1 7 0 3 6 8 5 7 6 7 0 8 5 1 4 4 7 1 8 0 2 9 4 1 2 5 5 1 5 5 5\n",
      " 2 2 7 6 7 3 9 9 4 6 9 7 7 0 0 4 5 6 7 1 6 5 4 4 7 3 6 6 1 2 3 2 1 5 5 3 7\n",
      " 0 1 3 0 8 9 2 2 9 9 3 0 9 8 7 5 6 0 8 7 2 7 0 0 3 8 1 5 9 4 1 3 0 8 3 0 2\n",
      " 2 2 0 6 5 3 8 4 7 8 1 9 3 4 6 1 3 8 7 8 6 1 2 6 8 6 5 6 3 5 4 1 5 8 7 0 1\n",
      " 1 9 7 4 7 8 8 4 8 9 6 8 4 3 1 2 1 0 9 6 3 9 8 4 0 9 5 7 5 1 9 2 7 4 4 9 6\n",
      " 9 2 4 3 0 8 5 3 2 8 4 0 0 3 0 6 6 4 5 7 9 5 6 9 7 7 8 0 6 0 3 7 4 1 5 5 5\n",
      " 0 2 3 0 3 4 5 8 3 0 3 0 6 6 3 1 4 7 7 5 2 2 4 4 8 6 5 6 0 5 6 4 8 8 7 2 9\n",
      " 9 2 7 4 3 5 8 9 0 5 1 9 4 5 2 9 6 6 6 3 7 5 4 5 9 1 2 4 1 3 1 3 3 7 0 7 3\n",
      " 5 3 9 2 6 6 8 3 6 1 9 8 5 5 2 1 4 7 2 5 0 7 1 4 1 2 7 3 1 9 4 8 2 3 0 1 1\n",
      " 9 1 4 0 7 8 0 9 5 5 9 1 8 3 0 1 8 7 2 7 3 0 8 0 8 5 1 6 4 5 0 0 7 3 1 2 9\n",
      " 6 7 1 9 1 6 7 1 6 4 1 9 4 2 1 8 6 7 9 2 8 8 5 9 5 5 1 1 7 8 4 4 4 9 3 8 5\n",
      " 2 2 0 6 7 3 7 9 4 6 7 7 6 0 4 0 1 6 8 5 8 6 3 6 6 9 7 6 6 9 0 0 2 6 4 5 1\n",
      " 6]\n"
     ]
    },
    {
     "data": {
      "text/plain": [
       "0.839"
      ]
     },
     "execution_count": 23,
     "metadata": {},
     "output_type": "execute_result"
    }
   ],
   "source": [
    "dev_predictions = make_predictions(X_dev, W1, b1, W2, b2)\n",
    "get_accuracy(dev_predictions, Y_dev)"
   ]
  }
 ],
 "metadata": {
  "kernelspec": {
   "display_name": "Python 3",
   "language": "python",
   "name": "python3"
  },
  "language_info": {
   "codemirror_mode": {
    "name": "ipython",
    "version": 3
   },
   "file_extension": ".py",
   "mimetype": "text/x-python",
   "name": "python",
   "nbconvert_exporter": "python",
   "pygments_lexer": "ipython3",
   "version": "3.8.10"
  },
  "orig_nbformat": 4
 },
 "nbformat": 4,
 "nbformat_minor": 2
}
